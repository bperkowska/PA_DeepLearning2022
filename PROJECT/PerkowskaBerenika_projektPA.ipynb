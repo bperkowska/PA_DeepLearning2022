{
 "cells": [
  {
   "cell_type": "code",
   "execution_count": 1,
   "metadata": {},
   "outputs": [],
   "source": [
    "using DelimitedFiles\n",
    "using StatsBase\n",
    "using DataFrames\n",
    "using Plots\n",
    "using Flux"
   ]
  },
  {
   "attachments": {},
   "cell_type": "markdown",
   "metadata": {},
   "source": [
    "Attribute Information:\n",
    "1. name\tName of the country concerned\n",
    "2. landmass\t1=N.America, 2=S.America, 3=Europe, 4=Africa, 4=Asia, 6=Oceania\n",
    "3. zone\tGeographic quadrant, based on Greenwich and the Equator\n",
    "               1=NE, 2=SE, 3=SW, 4=NW\n",
    "4. area\tin thousands of square km\n",
    "5. population\tin round millions\n",
    "6. language 1=English, 2=Spanish, 3=French, 4=German, 5=Slavic, 6=Other \n",
    "            Indo-European, 7=Chinese, 8=Arabic, \n",
    "            9=Japanese/Turkish/Finnish/Magyar, 10=Others\n",
    "7. religion 0=Catholic, 1=Other Christian, 2=Muslim, 3=Buddhist, 4=Hindu,\n",
    "            5=Ethnic, 6=Marxist, 7=Others\n",
    "8. bars     Number of vertical bars in the flag\n",
    "9. stripes  Number of horizontal stripes in the flag\n",
    "10. colours  Number of different colours in the flag\n",
    "11. red      0 if red absent, 1 if red present in the flag\n",
    "12. green    same for green\n",
    "13. blue     same for blue\n",
    "14. gold     same for gold (also yellow)\n",
    "15. white    same for white\n",
    "16. black    same for black\n",
    "17. orange   same for orange (also brown)\n",
    "18. mainhue  predominant colour in the flag (tie-breaks decided by taking\n",
    "            the topmost hue, if that fails then the most central hue,\n",
    "            and if that fails the leftmost hue)\n",
    "19. circles  Number of circles in the flag\n",
    "20. crosses  Number of (upright) crosses\n",
    "21. saltires Number of diagonal crosses\n",
    "22. quarters Number of quartered sections\n",
    "23. sunstars Number of sun or star symbols\n",
    "24. crescent 1 if a crescent moon symbol present, else 0\n",
    "25. triangle 1 if any triangles present, 0 otherwise\n",
    "26. icon     1 if an inanimate image present (e.g., a boat), otherwise 0\n",
    "27. animate  1 if an animate image (e.g., an eagle, a tree, a human hand)\n",
    "            present, 0 otherwise\n",
    "28. text     1 if any letters or writing on the flag (e.g., a motto or\n",
    "            slogan), 0 otherwise\n",
    "29. topleft  colour in the top-left corner (moving right to decide \n",
    "            tie-breaks)\n",
    "30. botright Colour in the bottom-left corner (moving left to decide \n",
    "            tie-breaks)"
   ]
  },
  {
   "cell_type": "code",
   "execution_count": 2,
   "metadata": {},
   "outputs": [],
   "source": [
    "rawdata = readdlm(\"flag.data\", ',')\n",
    "df = DataFrame(rawdata, :auto);"
   ]
  },
  {
   "cell_type": "code",
   "execution_count": 3,
   "metadata": {},
   "outputs": [
    {
     "data": {
      "text/html": [
       "<div><div style = \"float: left;\"><span>194×30 DataFrame</span></div><div style = \"float: right;\"><span style = \"font-style: italic;\">169 rows omitted</span></div><div style = \"clear: both;\"></div></div><div class = \"data-frame\" style = \"overflow-x: scroll;\"><table class = \"data-frame\" style = \"margin-bottom: 6px;\"><thead><tr class = \"header\"><th class = \"rowNumber\" style = \"font-weight: bold; text-align: right;\">Row</th><th style = \"text-align: left;\">name</th><th style = \"text-align: left;\">landmass</th><th style = \"text-align: left;\">zone</th><th style = \"text-align: left;\">area</th><th style = \"text-align: left;\">population</th><th style = \"text-align: left;\">language</th><th style = \"text-align: left;\">religion</th><th style = \"text-align: left;\">bars</th><th style = \"text-align: left;\">stripes</th><th style = \"text-align: left;\">colours</th><th style = \"text-align: left;\">red</th><th style = \"text-align: left;\">green</th><th style = \"text-align: left;\">blue</th><th style = \"text-align: left;\">gold</th><th style = \"text-align: left;\">white</th><th style = \"text-align: left;\">black</th><th style = \"text-align: left;\">orange</th><th style = \"text-align: left;\">mainhue</th><th style = \"text-align: left;\">circles</th><th style = \"text-align: left;\">crosses</th><th style = \"text-align: left;\">saltires</th><th style = \"text-align: left;\">quarters</th><th style = \"text-align: left;\">sunstars</th><th style = \"text-align: left;\">crescent</th><th style = \"text-align: left;\">triangle</th><th style = \"text-align: left;\">icon</th><th style = \"text-align: left;\">animate</th><th style = \"text-align: left;\">text</th><th style = \"text-align: left;\">topleft</th><th style = \"text-align: left;\">botright</th></tr><tr class = \"subheader headerLastRow\"><th class = \"rowNumber\" style = \"font-weight: bold; text-align: right;\"></th><th title = \"Any\" style = \"text-align: left;\">Any</th><th title = \"Any\" style = \"text-align: left;\">Any</th><th title = \"Any\" style = \"text-align: left;\">Any</th><th title = \"Any\" style = \"text-align: left;\">Any</th><th title = \"Any\" style = \"text-align: left;\">Any</th><th title = \"Any\" style = \"text-align: left;\">Any</th><th title = \"Any\" style = \"text-align: left;\">Any</th><th title = \"Any\" style = \"text-align: left;\">Any</th><th title = \"Any\" style = \"text-align: left;\">Any</th><th title = \"Any\" style = \"text-align: left;\">Any</th><th title = \"Any\" style = \"text-align: left;\">Any</th><th title = \"Any\" style = \"text-align: left;\">Any</th><th title = \"Any\" style = \"text-align: left;\">Any</th><th title = \"Any\" style = \"text-align: left;\">Any</th><th title = \"Any\" style = \"text-align: left;\">Any</th><th title = \"Any\" style = \"text-align: left;\">Any</th><th title = \"Any\" style = \"text-align: left;\">Any</th><th title = \"Any\" style = \"text-align: left;\">Any</th><th title = \"Any\" style = \"text-align: left;\">Any</th><th title = \"Any\" style = \"text-align: left;\">Any</th><th title = \"Any\" style = \"text-align: left;\">Any</th><th title = \"Any\" style = \"text-align: left;\">Any</th><th title = \"Any\" style = \"text-align: left;\">Any</th><th title = \"Any\" style = \"text-align: left;\">Any</th><th title = \"Any\" style = \"text-align: left;\">Any</th><th title = \"Any\" style = \"text-align: left;\">Any</th><th title = \"Any\" style = \"text-align: left;\">Any</th><th title = \"Any\" style = \"text-align: left;\">Any</th><th title = \"Any\" style = \"text-align: left;\">Any</th><th title = \"Any\" style = \"text-align: left;\">Any</th></tr></thead><tbody><tr><td class = \"rowNumber\" style = \"font-weight: bold; text-align: right;\">1</td><td style = \"text-align: left;\">Afghanistan</td><td style = \"text-align: left;\">5</td><td style = \"text-align: left;\">1</td><td style = \"text-align: left;\">648</td><td style = \"text-align: left;\">16</td><td style = \"text-align: left;\">10</td><td style = \"text-align: left;\">2</td><td style = \"text-align: left;\">0</td><td style = \"text-align: left;\">3</td><td style = \"text-align: left;\">5</td><td style = \"text-align: left;\">1</td><td style = \"text-align: left;\">1</td><td style = \"text-align: left;\">0</td><td style = \"text-align: left;\">1</td><td style = \"text-align: left;\">1</td><td style = \"text-align: left;\">1</td><td style = \"text-align: left;\">0</td><td style = \"text-align: left;\">green</td><td style = \"text-align: left;\">0</td><td style = \"text-align: left;\">0</td><td style = \"text-align: left;\">0</td><td style = \"text-align: left;\">0</td><td style = \"text-align: left;\">1</td><td style = \"text-align: left;\">0</td><td style = \"text-align: left;\">0</td><td style = \"text-align: left;\">1</td><td style = \"text-align: left;\">0</td><td style = \"text-align: left;\">0</td><td style = \"text-align: left;\">black</td><td style = \"text-align: left;\">green</td></tr><tr><td class = \"rowNumber\" style = \"font-weight: bold; text-align: right;\">2</td><td style = \"text-align: left;\">Albania</td><td style = \"text-align: left;\">3</td><td style = \"text-align: left;\">1</td><td style = \"text-align: left;\">29</td><td style = \"text-align: left;\">3</td><td style = \"text-align: left;\">6</td><td style = \"text-align: left;\">6</td><td style = \"text-align: left;\">0</td><td style = \"text-align: left;\">0</td><td style = \"text-align: left;\">3</td><td style = \"text-align: left;\">1</td><td style = \"text-align: left;\">0</td><td style = \"text-align: left;\">0</td><td style = \"text-align: left;\">1</td><td style = \"text-align: left;\">0</td><td style = \"text-align: left;\">1</td><td style = \"text-align: left;\">0</td><td style = \"text-align: left;\">red</td><td style = \"text-align: left;\">0</td><td style = \"text-align: left;\">0</td><td style = \"text-align: left;\">0</td><td style = \"text-align: left;\">0</td><td style = \"text-align: left;\">1</td><td style = \"text-align: left;\">0</td><td style = \"text-align: left;\">0</td><td style = \"text-align: left;\">0</td><td style = \"text-align: left;\">1</td><td style = \"text-align: left;\">0</td><td style = \"text-align: left;\">red</td><td style = \"text-align: left;\">red</td></tr><tr><td class = \"rowNumber\" style = \"font-weight: bold; text-align: right;\">3</td><td style = \"text-align: left;\">Algeria</td><td style = \"text-align: left;\">4</td><td style = \"text-align: left;\">1</td><td style = \"text-align: left;\">2388</td><td style = \"text-align: left;\">20</td><td style = \"text-align: left;\">8</td><td style = \"text-align: left;\">2</td><td style = \"text-align: left;\">2</td><td style = \"text-align: left;\">0</td><td style = \"text-align: left;\">3</td><td style = \"text-align: left;\">1</td><td style = \"text-align: left;\">1</td><td style = \"text-align: left;\">0</td><td style = \"text-align: left;\">0</td><td style = \"text-align: left;\">1</td><td style = \"text-align: left;\">0</td><td style = \"text-align: left;\">0</td><td style = \"text-align: left;\">green</td><td style = \"text-align: left;\">0</td><td style = \"text-align: left;\">0</td><td style = \"text-align: left;\">0</td><td style = \"text-align: left;\">0</td><td style = \"text-align: left;\">1</td><td style = \"text-align: left;\">1</td><td style = \"text-align: left;\">0</td><td style = \"text-align: left;\">0</td><td style = \"text-align: left;\">0</td><td style = \"text-align: left;\">0</td><td style = \"text-align: left;\">green</td><td style = \"text-align: left;\">white</td></tr><tr><td class = \"rowNumber\" style = \"font-weight: bold; text-align: right;\">4</td><td style = \"text-align: left;\">American-Samoa</td><td style = \"text-align: left;\">6</td><td style = \"text-align: left;\">3</td><td style = \"text-align: left;\">0</td><td style = \"text-align: left;\">0</td><td style = \"text-align: left;\">1</td><td style = \"text-align: left;\">1</td><td style = \"text-align: left;\">0</td><td style = \"text-align: left;\">0</td><td style = \"text-align: left;\">5</td><td style = \"text-align: left;\">1</td><td style = \"text-align: left;\">0</td><td style = \"text-align: left;\">1</td><td style = \"text-align: left;\">1</td><td style = \"text-align: left;\">1</td><td style = \"text-align: left;\">0</td><td style = \"text-align: left;\">1</td><td style = \"text-align: left;\">blue</td><td style = \"text-align: left;\">0</td><td style = \"text-align: left;\">0</td><td style = \"text-align: left;\">0</td><td style = \"text-align: left;\">0</td><td style = \"text-align: left;\">0</td><td style = \"text-align: left;\">0</td><td style = \"text-align: left;\">1</td><td style = \"text-align: left;\">1</td><td style = \"text-align: left;\">1</td><td style = \"text-align: left;\">0</td><td style = \"text-align: left;\">blue</td><td style = \"text-align: left;\">red</td></tr><tr><td class = \"rowNumber\" style = \"font-weight: bold; text-align: right;\">5</td><td style = \"text-align: left;\">Andorra</td><td style = \"text-align: left;\">3</td><td style = \"text-align: left;\">1</td><td style = \"text-align: left;\">0</td><td style = \"text-align: left;\">0</td><td style = \"text-align: left;\">6</td><td style = \"text-align: left;\">0</td><td style = \"text-align: left;\">3</td><td style = \"text-align: left;\">0</td><td style = \"text-align: left;\">3</td><td style = \"text-align: left;\">1</td><td style = \"text-align: left;\">0</td><td style = \"text-align: left;\">1</td><td style = \"text-align: left;\">1</td><td style = \"text-align: left;\">0</td><td style = \"text-align: left;\">0</td><td style = \"text-align: left;\">0</td><td style = \"text-align: left;\">gold</td><td style = \"text-align: left;\">0</td><td style = \"text-align: left;\">0</td><td style = \"text-align: left;\">0</td><td style = \"text-align: left;\">0</td><td style = \"text-align: left;\">0</td><td style = \"text-align: left;\">0</td><td style = \"text-align: left;\">0</td><td style = \"text-align: left;\">0</td><td style = \"text-align: left;\">0</td><td style = \"text-align: left;\">0</td><td style = \"text-align: left;\">blue</td><td style = \"text-align: left;\">red</td></tr><tr><td class = \"rowNumber\" style = \"font-weight: bold; text-align: right;\">6</td><td style = \"text-align: left;\">Angola</td><td style = \"text-align: left;\">4</td><td style = \"text-align: left;\">2</td><td style = \"text-align: left;\">1247</td><td style = \"text-align: left;\">7</td><td style = \"text-align: left;\">10</td><td style = \"text-align: left;\">5</td><td style = \"text-align: left;\">0</td><td style = \"text-align: left;\">2</td><td style = \"text-align: left;\">3</td><td style = \"text-align: left;\">1</td><td style = \"text-align: left;\">0</td><td style = \"text-align: left;\">0</td><td style = \"text-align: left;\">1</td><td style = \"text-align: left;\">0</td><td style = \"text-align: left;\">1</td><td style = \"text-align: left;\">0</td><td style = \"text-align: left;\">red</td><td style = \"text-align: left;\">0</td><td style = \"text-align: left;\">0</td><td style = \"text-align: left;\">0</td><td style = \"text-align: left;\">0</td><td style = \"text-align: left;\">1</td><td style = \"text-align: left;\">0</td><td style = \"text-align: left;\">0</td><td style = \"text-align: left;\">1</td><td style = \"text-align: left;\">0</td><td style = \"text-align: left;\">0</td><td style = \"text-align: left;\">red</td><td style = \"text-align: left;\">black</td></tr><tr><td class = \"rowNumber\" style = \"font-weight: bold; text-align: right;\">7</td><td style = \"text-align: left;\">Anguilla</td><td style = \"text-align: left;\">1</td><td style = \"text-align: left;\">4</td><td style = \"text-align: left;\">0</td><td style = \"text-align: left;\">0</td><td style = \"text-align: left;\">1</td><td style = \"text-align: left;\">1</td><td style = \"text-align: left;\">0</td><td style = \"text-align: left;\">1</td><td style = \"text-align: left;\">3</td><td style = \"text-align: left;\">0</td><td style = \"text-align: left;\">0</td><td style = \"text-align: left;\">1</td><td style = \"text-align: left;\">0</td><td style = \"text-align: left;\">1</td><td style = \"text-align: left;\">0</td><td style = \"text-align: left;\">1</td><td style = \"text-align: left;\">white</td><td style = \"text-align: left;\">0</td><td style = \"text-align: left;\">0</td><td style = \"text-align: left;\">0</td><td style = \"text-align: left;\">0</td><td style = \"text-align: left;\">0</td><td style = \"text-align: left;\">0</td><td style = \"text-align: left;\">0</td><td style = \"text-align: left;\">0</td><td style = \"text-align: left;\">1</td><td style = \"text-align: left;\">0</td><td style = \"text-align: left;\">white</td><td style = \"text-align: left;\">blue</td></tr><tr><td class = \"rowNumber\" style = \"font-weight: bold; text-align: right;\">8</td><td style = \"text-align: left;\">Antigua-Barbuda</td><td style = \"text-align: left;\">1</td><td style = \"text-align: left;\">4</td><td style = \"text-align: left;\">0</td><td style = \"text-align: left;\">0</td><td style = \"text-align: left;\">1</td><td style = \"text-align: left;\">1</td><td style = \"text-align: left;\">0</td><td style = \"text-align: left;\">1</td><td style = \"text-align: left;\">5</td><td style = \"text-align: left;\">1</td><td style = \"text-align: left;\">0</td><td style = \"text-align: left;\">1</td><td style = \"text-align: left;\">1</td><td style = \"text-align: left;\">1</td><td style = \"text-align: left;\">1</td><td style = \"text-align: left;\">0</td><td style = \"text-align: left;\">red</td><td style = \"text-align: left;\">0</td><td style = \"text-align: left;\">0</td><td style = \"text-align: left;\">0</td><td style = \"text-align: left;\">0</td><td style = \"text-align: left;\">1</td><td style = \"text-align: left;\">0</td><td style = \"text-align: left;\">1</td><td style = \"text-align: left;\">0</td><td style = \"text-align: left;\">0</td><td style = \"text-align: left;\">0</td><td style = \"text-align: left;\">black</td><td style = \"text-align: left;\">red</td></tr><tr><td class = \"rowNumber\" style = \"font-weight: bold; text-align: right;\">9</td><td style = \"text-align: left;\">Argentina</td><td style = \"text-align: left;\">2</td><td style = \"text-align: left;\">3</td><td style = \"text-align: left;\">2777</td><td style = \"text-align: left;\">28</td><td style = \"text-align: left;\">2</td><td style = \"text-align: left;\">0</td><td style = \"text-align: left;\">0</td><td style = \"text-align: left;\">3</td><td style = \"text-align: left;\">2</td><td style = \"text-align: left;\">0</td><td style = \"text-align: left;\">0</td><td style = \"text-align: left;\">1</td><td style = \"text-align: left;\">0</td><td style = \"text-align: left;\">1</td><td style = \"text-align: left;\">0</td><td style = \"text-align: left;\">0</td><td style = \"text-align: left;\">blue</td><td style = \"text-align: left;\">0</td><td style = \"text-align: left;\">0</td><td style = \"text-align: left;\">0</td><td style = \"text-align: left;\">0</td><td style = \"text-align: left;\">0</td><td style = \"text-align: left;\">0</td><td style = \"text-align: left;\">0</td><td style = \"text-align: left;\">0</td><td style = \"text-align: left;\">0</td><td style = \"text-align: left;\">0</td><td style = \"text-align: left;\">blue</td><td style = \"text-align: left;\">blue</td></tr><tr><td class = \"rowNumber\" style = \"font-weight: bold; text-align: right;\">10</td><td style = \"text-align: left;\">Argentine</td><td style = \"text-align: left;\">2</td><td style = \"text-align: left;\">3</td><td style = \"text-align: left;\">2777</td><td style = \"text-align: left;\">28</td><td style = \"text-align: left;\">2</td><td style = \"text-align: left;\">0</td><td style = \"text-align: left;\">0</td><td style = \"text-align: left;\">3</td><td style = \"text-align: left;\">3</td><td style = \"text-align: left;\">0</td><td style = \"text-align: left;\">0</td><td style = \"text-align: left;\">1</td><td style = \"text-align: left;\">1</td><td style = \"text-align: left;\">1</td><td style = \"text-align: left;\">0</td><td style = \"text-align: left;\">0</td><td style = \"text-align: left;\">blue</td><td style = \"text-align: left;\">0</td><td style = \"text-align: left;\">0</td><td style = \"text-align: left;\">0</td><td style = \"text-align: left;\">0</td><td style = \"text-align: left;\">1</td><td style = \"text-align: left;\">0</td><td style = \"text-align: left;\">0</td><td style = \"text-align: left;\">0</td><td style = \"text-align: left;\">0</td><td style = \"text-align: left;\">0</td><td style = \"text-align: left;\">blue</td><td style = \"text-align: left;\">blue</td></tr><tr><td class = \"rowNumber\" style = \"font-weight: bold; text-align: right;\">11</td><td style = \"text-align: left;\">Australia</td><td style = \"text-align: left;\">6</td><td style = \"text-align: left;\">2</td><td style = \"text-align: left;\">7690</td><td style = \"text-align: left;\">15</td><td style = \"text-align: left;\">1</td><td style = \"text-align: left;\">1</td><td style = \"text-align: left;\">0</td><td style = \"text-align: left;\">0</td><td style = \"text-align: left;\">3</td><td style = \"text-align: left;\">1</td><td style = \"text-align: left;\">0</td><td style = \"text-align: left;\">1</td><td style = \"text-align: left;\">0</td><td style = \"text-align: left;\">1</td><td style = \"text-align: left;\">0</td><td style = \"text-align: left;\">0</td><td style = \"text-align: left;\">blue</td><td style = \"text-align: left;\">0</td><td style = \"text-align: left;\">1</td><td style = \"text-align: left;\">1</td><td style = \"text-align: left;\">1</td><td style = \"text-align: left;\">6</td><td style = \"text-align: left;\">0</td><td style = \"text-align: left;\">0</td><td style = \"text-align: left;\">0</td><td style = \"text-align: left;\">0</td><td style = \"text-align: left;\">0</td><td style = \"text-align: left;\">white</td><td style = \"text-align: left;\">blue</td></tr><tr><td class = \"rowNumber\" style = \"font-weight: bold; text-align: right;\">12</td><td style = \"text-align: left;\">Austria</td><td style = \"text-align: left;\">3</td><td style = \"text-align: left;\">1</td><td style = \"text-align: left;\">84</td><td style = \"text-align: left;\">8</td><td style = \"text-align: left;\">4</td><td style = \"text-align: left;\">0</td><td style = \"text-align: left;\">0</td><td style = \"text-align: left;\">3</td><td style = \"text-align: left;\">2</td><td style = \"text-align: left;\">1</td><td style = \"text-align: left;\">0</td><td style = \"text-align: left;\">0</td><td style = \"text-align: left;\">0</td><td style = \"text-align: left;\">1</td><td style = \"text-align: left;\">0</td><td style = \"text-align: left;\">0</td><td style = \"text-align: left;\">red</td><td style = \"text-align: left;\">0</td><td style = \"text-align: left;\">0</td><td style = \"text-align: left;\">0</td><td style = \"text-align: left;\">0</td><td style = \"text-align: left;\">0</td><td style = \"text-align: left;\">0</td><td style = \"text-align: left;\">0</td><td style = \"text-align: left;\">0</td><td style = \"text-align: left;\">0</td><td style = \"text-align: left;\">0</td><td style = \"text-align: left;\">red</td><td style = \"text-align: left;\">red</td></tr><tr><td class = \"rowNumber\" style = \"font-weight: bold; text-align: right;\">13</td><td style = \"text-align: left;\">Bahamas</td><td style = \"text-align: left;\">1</td><td style = \"text-align: left;\">4</td><td style = \"text-align: left;\">19</td><td style = \"text-align: left;\">0</td><td style = \"text-align: left;\">1</td><td style = \"text-align: left;\">1</td><td style = \"text-align: left;\">0</td><td style = \"text-align: left;\">3</td><td style = \"text-align: left;\">3</td><td style = \"text-align: left;\">0</td><td style = \"text-align: left;\">0</td><td style = \"text-align: left;\">1</td><td style = \"text-align: left;\">1</td><td style = \"text-align: left;\">0</td><td style = \"text-align: left;\">1</td><td style = \"text-align: left;\">0</td><td style = \"text-align: left;\">blue</td><td style = \"text-align: left;\">0</td><td style = \"text-align: left;\">0</td><td style = \"text-align: left;\">0</td><td style = \"text-align: left;\">0</td><td style = \"text-align: left;\">0</td><td style = \"text-align: left;\">0</td><td style = \"text-align: left;\">1</td><td style = \"text-align: left;\">0</td><td style = \"text-align: left;\">0</td><td style = \"text-align: left;\">0</td><td style = \"text-align: left;\">blue</td><td style = \"text-align: left;\">blue</td></tr><tr><td style = \"text-align: right;\">&vellip;</td><td style = \"text-align: right;\">&vellip;</td><td style = \"text-align: right;\">&vellip;</td><td style = \"text-align: right;\">&vellip;</td><td style = \"text-align: right;\">&vellip;</td><td style = \"text-align: right;\">&vellip;</td><td style = \"text-align: right;\">&vellip;</td><td style = \"text-align: right;\">&vellip;</td><td style = \"text-align: right;\">&vellip;</td><td style = \"text-align: right;\">&vellip;</td><td style = \"text-align: right;\">&vellip;</td><td style = \"text-align: right;\">&vellip;</td><td style = \"text-align: right;\">&vellip;</td><td style = \"text-align: right;\">&vellip;</td><td style = \"text-align: right;\">&vellip;</td><td style = \"text-align: right;\">&vellip;</td><td style = \"text-align: right;\">&vellip;</td><td style = \"text-align: right;\">&vellip;</td><td style = \"text-align: right;\">&vellip;</td><td style = \"text-align: right;\">&vellip;</td><td style = \"text-align: right;\">&vellip;</td><td style = \"text-align: right;\">&vellip;</td><td style = \"text-align: right;\">&vellip;</td><td style = \"text-align: right;\">&vellip;</td><td style = \"text-align: right;\">&vellip;</td><td style = \"text-align: right;\">&vellip;</td><td style = \"text-align: right;\">&vellip;</td><td style = \"text-align: right;\">&vellip;</td><td style = \"text-align: right;\">&vellip;</td><td style = \"text-align: right;\">&vellip;</td><td style = \"text-align: right;\">&vellip;</td></tr><tr><td class = \"rowNumber\" style = \"font-weight: bold; text-align: right;\">183</td><td style = \"text-align: left;\">US-Virgin-Isles</td><td style = \"text-align: left;\">1</td><td style = \"text-align: left;\">4</td><td style = \"text-align: left;\">0</td><td style = \"text-align: left;\">0</td><td style = \"text-align: left;\">1</td><td style = \"text-align: left;\">1</td><td style = \"text-align: left;\">0</td><td style = \"text-align: left;\">0</td><td style = \"text-align: left;\">6</td><td style = \"text-align: left;\">1</td><td style = \"text-align: left;\">1</td><td style = \"text-align: left;\">1</td><td style = \"text-align: left;\">1</td><td style = \"text-align: left;\">1</td><td style = \"text-align: left;\">0</td><td style = \"text-align: left;\">0</td><td style = \"text-align: left;\">white</td><td style = \"text-align: left;\">0</td><td style = \"text-align: left;\">0</td><td style = \"text-align: left;\">0</td><td style = \"text-align: left;\">0</td><td style = \"text-align: left;\">0</td><td style = \"text-align: left;\">0</td><td style = \"text-align: left;\">0</td><td style = \"text-align: left;\">1</td><td style = \"text-align: left;\">1</td><td style = \"text-align: left;\">1</td><td style = \"text-align: left;\">white</td><td style = \"text-align: left;\">white</td></tr><tr><td class = \"rowNumber\" style = \"font-weight: bold; text-align: right;\">184</td><td style = \"text-align: left;\">USA</td><td style = \"text-align: left;\">1</td><td style = \"text-align: left;\">4</td><td style = \"text-align: left;\">9363</td><td style = \"text-align: left;\">231</td><td style = \"text-align: left;\">1</td><td style = \"text-align: left;\">1</td><td style = \"text-align: left;\">0</td><td style = \"text-align: left;\">13</td><td style = \"text-align: left;\">3</td><td style = \"text-align: left;\">1</td><td style = \"text-align: left;\">0</td><td style = \"text-align: left;\">1</td><td style = \"text-align: left;\">0</td><td style = \"text-align: left;\">1</td><td style = \"text-align: left;\">0</td><td style = \"text-align: left;\">0</td><td style = \"text-align: left;\">white</td><td style = \"text-align: left;\">0</td><td style = \"text-align: left;\">0</td><td style = \"text-align: left;\">0</td><td style = \"text-align: left;\">1</td><td style = \"text-align: left;\">50</td><td style = \"text-align: left;\">0</td><td style = \"text-align: left;\">0</td><td style = \"text-align: left;\">0</td><td style = \"text-align: left;\">0</td><td style = \"text-align: left;\">0</td><td style = \"text-align: left;\">blue</td><td style = \"text-align: left;\">red</td></tr><tr><td class = \"rowNumber\" style = \"font-weight: bold; text-align: right;\">185</td><td style = \"text-align: left;\">USSR</td><td style = \"text-align: left;\">5</td><td style = \"text-align: left;\">1</td><td style = \"text-align: left;\">22402</td><td style = \"text-align: left;\">274</td><td style = \"text-align: left;\">5</td><td style = \"text-align: left;\">6</td><td style = \"text-align: left;\">0</td><td style = \"text-align: left;\">0</td><td style = \"text-align: left;\">2</td><td style = \"text-align: left;\">1</td><td style = \"text-align: left;\">0</td><td style = \"text-align: left;\">0</td><td style = \"text-align: left;\">1</td><td style = \"text-align: left;\">0</td><td style = \"text-align: left;\">0</td><td style = \"text-align: left;\">0</td><td style = \"text-align: left;\">red</td><td style = \"text-align: left;\">0</td><td style = \"text-align: left;\">0</td><td style = \"text-align: left;\">0</td><td style = \"text-align: left;\">0</td><td style = \"text-align: left;\">1</td><td style = \"text-align: left;\">0</td><td style = \"text-align: left;\">0</td><td style = \"text-align: left;\">1</td><td style = \"text-align: left;\">0</td><td style = \"text-align: left;\">0</td><td style = \"text-align: left;\">red</td><td style = \"text-align: left;\">red</td></tr><tr><td class = \"rowNumber\" style = \"font-weight: bold; text-align: right;\">186</td><td style = \"text-align: left;\">Vanuatu</td><td style = \"text-align: left;\">6</td><td style = \"text-align: left;\">2</td><td style = \"text-align: left;\">15</td><td style = \"text-align: left;\">0</td><td style = \"text-align: left;\">6</td><td style = \"text-align: left;\">1</td><td style = \"text-align: left;\">0</td><td style = \"text-align: left;\">0</td><td style = \"text-align: left;\">4</td><td style = \"text-align: left;\">1</td><td style = \"text-align: left;\">1</td><td style = \"text-align: left;\">0</td><td style = \"text-align: left;\">1</td><td style = \"text-align: left;\">0</td><td style = \"text-align: left;\">1</td><td style = \"text-align: left;\">0</td><td style = \"text-align: left;\">red</td><td style = \"text-align: left;\">0</td><td style = \"text-align: left;\">0</td><td style = \"text-align: left;\">0</td><td style = \"text-align: left;\">0</td><td style = \"text-align: left;\">0</td><td style = \"text-align: left;\">0</td><td style = \"text-align: left;\">1</td><td style = \"text-align: left;\">0</td><td style = \"text-align: left;\">1</td><td style = \"text-align: left;\">0</td><td style = \"text-align: left;\">black</td><td style = \"text-align: left;\">green</td></tr><tr><td class = \"rowNumber\" style = \"font-weight: bold; text-align: right;\">187</td><td style = \"text-align: left;\">Vatican-City</td><td style = \"text-align: left;\">3</td><td style = \"text-align: left;\">1</td><td style = \"text-align: left;\">0</td><td style = \"text-align: left;\">0</td><td style = \"text-align: left;\">6</td><td style = \"text-align: left;\">0</td><td style = \"text-align: left;\">2</td><td style = \"text-align: left;\">0</td><td style = \"text-align: left;\">4</td><td style = \"text-align: left;\">1</td><td style = \"text-align: left;\">0</td><td style = \"text-align: left;\">0</td><td style = \"text-align: left;\">1</td><td style = \"text-align: left;\">1</td><td style = \"text-align: left;\">1</td><td style = \"text-align: left;\">0</td><td style = \"text-align: left;\">gold</td><td style = \"text-align: left;\">0</td><td style = \"text-align: left;\">0</td><td style = \"text-align: left;\">0</td><td style = \"text-align: left;\">0</td><td style = \"text-align: left;\">0</td><td style = \"text-align: left;\">0</td><td style = \"text-align: left;\">0</td><td style = \"text-align: left;\">1</td><td style = \"text-align: left;\">0</td><td style = \"text-align: left;\">0</td><td style = \"text-align: left;\">gold</td><td style = \"text-align: left;\">white</td></tr><tr><td class = \"rowNumber\" style = \"font-weight: bold; text-align: right;\">188</td><td style = \"text-align: left;\">Venezuela</td><td style = \"text-align: left;\">2</td><td style = \"text-align: left;\">4</td><td style = \"text-align: left;\">912</td><td style = \"text-align: left;\">15</td><td style = \"text-align: left;\">2</td><td style = \"text-align: left;\">0</td><td style = \"text-align: left;\">0</td><td style = \"text-align: left;\">3</td><td style = \"text-align: left;\">7</td><td style = \"text-align: left;\">1</td><td style = \"text-align: left;\">1</td><td style = \"text-align: left;\">1</td><td style = \"text-align: left;\">1</td><td style = \"text-align: left;\">1</td><td style = \"text-align: left;\">1</td><td style = \"text-align: left;\">1</td><td style = \"text-align: left;\">red</td><td style = \"text-align: left;\">0</td><td style = \"text-align: left;\">0</td><td style = \"text-align: left;\">0</td><td style = \"text-align: left;\">0</td><td style = \"text-align: left;\">7</td><td style = \"text-align: left;\">0</td><td style = \"text-align: left;\">0</td><td style = \"text-align: left;\">1</td><td style = \"text-align: left;\">1</td><td style = \"text-align: left;\">0</td><td style = \"text-align: left;\">gold</td><td style = \"text-align: left;\">red</td></tr><tr><td class = \"rowNumber\" style = \"font-weight: bold; text-align: right;\">189</td><td style = \"text-align: left;\">Vietnam</td><td style = \"text-align: left;\">5</td><td style = \"text-align: left;\">1</td><td style = \"text-align: left;\">333</td><td style = \"text-align: left;\">60</td><td style = \"text-align: left;\">10</td><td style = \"text-align: left;\">6</td><td style = \"text-align: left;\">0</td><td style = \"text-align: left;\">0</td><td style = \"text-align: left;\">2</td><td style = \"text-align: left;\">1</td><td style = \"text-align: left;\">0</td><td style = \"text-align: left;\">0</td><td style = \"text-align: left;\">1</td><td style = \"text-align: left;\">0</td><td style = \"text-align: left;\">0</td><td style = \"text-align: left;\">0</td><td style = \"text-align: left;\">red</td><td style = \"text-align: left;\">0</td><td style = \"text-align: left;\">0</td><td style = \"text-align: left;\">0</td><td style = \"text-align: left;\">0</td><td style = \"text-align: left;\">1</td><td style = \"text-align: left;\">0</td><td style = \"text-align: left;\">0</td><td style = \"text-align: left;\">0</td><td style = \"text-align: left;\">0</td><td style = \"text-align: left;\">0</td><td style = \"text-align: left;\">red</td><td style = \"text-align: left;\">red</td></tr><tr><td class = \"rowNumber\" style = \"font-weight: bold; text-align: right;\">190</td><td style = \"text-align: left;\">Western-Samoa</td><td style = \"text-align: left;\">6</td><td style = \"text-align: left;\">3</td><td style = \"text-align: left;\">3</td><td style = \"text-align: left;\">0</td><td style = \"text-align: left;\">1</td><td style = \"text-align: left;\">1</td><td style = \"text-align: left;\">0</td><td style = \"text-align: left;\">0</td><td style = \"text-align: left;\">3</td><td style = \"text-align: left;\">1</td><td style = \"text-align: left;\">0</td><td style = \"text-align: left;\">1</td><td style = \"text-align: left;\">0</td><td style = \"text-align: left;\">1</td><td style = \"text-align: left;\">0</td><td style = \"text-align: left;\">0</td><td style = \"text-align: left;\">red</td><td style = \"text-align: left;\">0</td><td style = \"text-align: left;\">0</td><td style = \"text-align: left;\">0</td><td style = \"text-align: left;\">1</td><td style = \"text-align: left;\">5</td><td style = \"text-align: left;\">0</td><td style = \"text-align: left;\">0</td><td style = \"text-align: left;\">0</td><td style = \"text-align: left;\">0</td><td style = \"text-align: left;\">0</td><td style = \"text-align: left;\">blue</td><td style = \"text-align: left;\">red</td></tr><tr><td class = \"rowNumber\" style = \"font-weight: bold; text-align: right;\">191</td><td style = \"text-align: left;\">Yugoslavia</td><td style = \"text-align: left;\">3</td><td style = \"text-align: left;\">1</td><td style = \"text-align: left;\">256</td><td style = \"text-align: left;\">22</td><td style = \"text-align: left;\">6</td><td style = \"text-align: left;\">6</td><td style = \"text-align: left;\">0</td><td style = \"text-align: left;\">3</td><td style = \"text-align: left;\">4</td><td style = \"text-align: left;\">1</td><td style = \"text-align: left;\">0</td><td style = \"text-align: left;\">1</td><td style = \"text-align: left;\">1</td><td style = \"text-align: left;\">1</td><td style = \"text-align: left;\">0</td><td style = \"text-align: left;\">0</td><td style = \"text-align: left;\">red</td><td style = \"text-align: left;\">0</td><td style = \"text-align: left;\">0</td><td style = \"text-align: left;\">0</td><td style = \"text-align: left;\">0</td><td style = \"text-align: left;\">1</td><td style = \"text-align: left;\">0</td><td style = \"text-align: left;\">0</td><td style = \"text-align: left;\">0</td><td style = \"text-align: left;\">0</td><td style = \"text-align: left;\">0</td><td style = \"text-align: left;\">blue</td><td style = \"text-align: left;\">red</td></tr><tr><td class = \"rowNumber\" style = \"font-weight: bold; text-align: right;\">192</td><td style = \"text-align: left;\">Zaire</td><td style = \"text-align: left;\">4</td><td style = \"text-align: left;\">2</td><td style = \"text-align: left;\">905</td><td style = \"text-align: left;\">28</td><td style = \"text-align: left;\">10</td><td style = \"text-align: left;\">5</td><td style = \"text-align: left;\">0</td><td style = \"text-align: left;\">0</td><td style = \"text-align: left;\">4</td><td style = \"text-align: left;\">1</td><td style = \"text-align: left;\">1</td><td style = \"text-align: left;\">0</td><td style = \"text-align: left;\">1</td><td style = \"text-align: left;\">0</td><td style = \"text-align: left;\">0</td><td style = \"text-align: left;\">1</td><td style = \"text-align: left;\">green</td><td style = \"text-align: left;\">1</td><td style = \"text-align: left;\">0</td><td style = \"text-align: left;\">0</td><td style = \"text-align: left;\">0</td><td style = \"text-align: left;\">0</td><td style = \"text-align: left;\">0</td><td style = \"text-align: left;\">0</td><td style = \"text-align: left;\">1</td><td style = \"text-align: left;\">1</td><td style = \"text-align: left;\">0</td><td style = \"text-align: left;\">green</td><td style = \"text-align: left;\">green</td></tr><tr><td class = \"rowNumber\" style = \"font-weight: bold; text-align: right;\">193</td><td style = \"text-align: left;\">Zambia</td><td style = \"text-align: left;\">4</td><td style = \"text-align: left;\">2</td><td style = \"text-align: left;\">753</td><td style = \"text-align: left;\">6</td><td style = \"text-align: left;\">10</td><td style = \"text-align: left;\">5</td><td style = \"text-align: left;\">3</td><td style = \"text-align: left;\">0</td><td style = \"text-align: left;\">4</td><td style = \"text-align: left;\">1</td><td style = \"text-align: left;\">1</td><td style = \"text-align: left;\">0</td><td style = \"text-align: left;\">0</td><td style = \"text-align: left;\">0</td><td style = \"text-align: left;\">1</td><td style = \"text-align: left;\">1</td><td style = \"text-align: left;\">green</td><td style = \"text-align: left;\">0</td><td style = \"text-align: left;\">0</td><td style = \"text-align: left;\">0</td><td style = \"text-align: left;\">0</td><td style = \"text-align: left;\">0</td><td style = \"text-align: left;\">0</td><td style = \"text-align: left;\">0</td><td style = \"text-align: left;\">0</td><td style = \"text-align: left;\">1</td><td style = \"text-align: left;\">0</td><td style = \"text-align: left;\">green</td><td style = \"text-align: left;\">brown</td></tr><tr><td class = \"rowNumber\" style = \"font-weight: bold; text-align: right;\">194</td><td style = \"text-align: left;\">Zimbabwe</td><td style = \"text-align: left;\">4</td><td style = \"text-align: left;\">2</td><td style = \"text-align: left;\">391</td><td style = \"text-align: left;\">8</td><td style = \"text-align: left;\">10</td><td style = \"text-align: left;\">5</td><td style = \"text-align: left;\">0</td><td style = \"text-align: left;\">7</td><td style = \"text-align: left;\">5</td><td style = \"text-align: left;\">1</td><td style = \"text-align: left;\">1</td><td style = \"text-align: left;\">0</td><td style = \"text-align: left;\">1</td><td style = \"text-align: left;\">1</td><td style = \"text-align: left;\">1</td><td style = \"text-align: left;\">0</td><td style = \"text-align: left;\">green</td><td style = \"text-align: left;\">0</td><td style = \"text-align: left;\">0</td><td style = \"text-align: left;\">0</td><td style = \"text-align: left;\">0</td><td style = \"text-align: left;\">1</td><td style = \"text-align: left;\">0</td><td style = \"text-align: left;\">1</td><td style = \"text-align: left;\">1</td><td style = \"text-align: left;\">1</td><td style = \"text-align: left;\">0</td><td style = \"text-align: left;\">green</td><td style = \"text-align: left;\">green</td></tr></tbody></table></div>"
      ],
      "text/latex": [
       "\\begin{tabular}{r|ccccccccc}\n",
       "\t& name & landmass & zone & area & population & language & religion & bars & \\\\\n",
       "\t\\hline\n",
       "\t& Any & Any & Any & Any & Any & Any & Any & Any & \\\\\n",
       "\t\\hline\n",
       "\t1 & Afghanistan & 5 & 1 & 648 & 16 & 10 & 2 & 0 & $\\dots$ \\\\\n",
       "\t2 & Albania & 3 & 1 & 29 & 3 & 6 & 6 & 0 & $\\dots$ \\\\\n",
       "\t3 & Algeria & 4 & 1 & 2388 & 20 & 8 & 2 & 2 & $\\dots$ \\\\\n",
       "\t4 & American-Samoa & 6 & 3 & 0 & 0 & 1 & 1 & 0 & $\\dots$ \\\\\n",
       "\t5 & Andorra & 3 & 1 & 0 & 0 & 6 & 0 & 3 & $\\dots$ \\\\\n",
       "\t6 & Angola & 4 & 2 & 1247 & 7 & 10 & 5 & 0 & $\\dots$ \\\\\n",
       "\t7 & Anguilla & 1 & 4 & 0 & 0 & 1 & 1 & 0 & $\\dots$ \\\\\n",
       "\t8 & Antigua-Barbuda & 1 & 4 & 0 & 0 & 1 & 1 & 0 & $\\dots$ \\\\\n",
       "\t9 & Argentina & 2 & 3 & 2777 & 28 & 2 & 0 & 0 & $\\dots$ \\\\\n",
       "\t10 & Argentine & 2 & 3 & 2777 & 28 & 2 & 0 & 0 & $\\dots$ \\\\\n",
       "\t11 & Australia & 6 & 2 & 7690 & 15 & 1 & 1 & 0 & $\\dots$ \\\\\n",
       "\t12 & Austria & 3 & 1 & 84 & 8 & 4 & 0 & 0 & $\\dots$ \\\\\n",
       "\t13 & Bahamas & 1 & 4 & 19 & 0 & 1 & 1 & 0 & $\\dots$ \\\\\n",
       "\t14 & Bahrain & 5 & 1 & 1 & 0 & 8 & 2 & 0 & $\\dots$ \\\\\n",
       "\t15 & Bangladesh & 5 & 1 & 143 & 90 & 6 & 2 & 0 & $\\dots$ \\\\\n",
       "\t16 & Barbados & 1 & 4 & 0 & 0 & 1 & 1 & 3 & $\\dots$ \\\\\n",
       "\t17 & Belgium & 3 & 1 & 31 & 10 & 6 & 0 & 3 & $\\dots$ \\\\\n",
       "\t18 & Belize & 1 & 4 & 23 & 0 & 1 & 1 & 0 & $\\dots$ \\\\\n",
       "\t19 & Benin & 4 & 1 & 113 & 3 & 3 & 5 & 0 & $\\dots$ \\\\\n",
       "\t20 & Bermuda & 1 & 4 & 0 & 0 & 1 & 1 & 0 & $\\dots$ \\\\\n",
       "\t21 & Bhutan & 5 & 1 & 47 & 1 & 10 & 3 & 0 & $\\dots$ \\\\\n",
       "\t22 & Bolivia & 2 & 3 & 1099 & 6 & 2 & 0 & 0 & $\\dots$ \\\\\n",
       "\t23 & Botswana & 4 & 2 & 600 & 1 & 10 & 5 & 0 & $\\dots$ \\\\\n",
       "\t24 & Brazil & 2 & 3 & 8512 & 119 & 6 & 0 & 0 & $\\dots$ \\\\\n",
       "\t25 & British-Virgin-Isles & 1 & 4 & 0 & 0 & 1 & 1 & 0 & $\\dots$ \\\\\n",
       "\t26 & Brunei & 5 & 1 & 6 & 0 & 10 & 2 & 0 & $\\dots$ \\\\\n",
       "\t27 & Bulgaria & 3 & 1 & 111 & 9 & 5 & 6 & 0 & $\\dots$ \\\\\n",
       "\t28 & Burkina & 4 & 4 & 274 & 7 & 3 & 5 & 0 & $\\dots$ \\\\\n",
       "\t29 & Burma & 5 & 1 & 678 & 35 & 10 & 3 & 0 & $\\dots$ \\\\\n",
       "\t30 & Burundi & 4 & 2 & 28 & 4 & 10 & 5 & 0 & $\\dots$ \\\\\n",
       "\t$\\dots$ & $\\dots$ & $\\dots$ & $\\dots$ & $\\dots$ & $\\dots$ & $\\dots$ & $\\dots$ & $\\dots$ &  \\\\\n",
       "\\end{tabular}\n"
      ],
      "text/plain": [
       "\u001b[1m194×30 DataFrame\u001b[0m\n",
       "\u001b[1m Row \u001b[0m│\u001b[1m name            \u001b[0m\u001b[1m landmass \u001b[0m\u001b[1m zone \u001b[0m\u001b[1m area  \u001b[0m\u001b[1m population \u001b[0m\u001b[1m language \u001b[0m\u001b[1m religion \u001b[0m\u001b[1m\u001b[0m ⋯\n",
       "     │\u001b[90m Any             \u001b[0m\u001b[90m Any      \u001b[0m\u001b[90m Any  \u001b[0m\u001b[90m Any   \u001b[0m\u001b[90m Any        \u001b[0m\u001b[90m Any      \u001b[0m\u001b[90m Any      \u001b[0m\u001b[90m\u001b[0m ⋯\n",
       "─────┼──────────────────────────────────────────────────────────────────────────\n",
       "   1 │ Afghanistan      5         1     648    16          10        2         ⋯\n",
       "   2 │ Albania          3         1     29     3           6         6\n",
       "   3 │ Algeria          4         1     2388   20          8         2\n",
       "   4 │ American-Samoa   6         3     0      0           1         1\n",
       "   5 │ Andorra          3         1     0      0           6         0         ⋯\n",
       "   6 │ Angola           4         2     1247   7           10        5\n",
       "   7 │ Anguilla         1         4     0      0           1         1\n",
       "   8 │ Antigua-Barbuda  1         4     0      0           1         1\n",
       "   9 │ Argentina        2         3     2777   28          2         0         ⋯\n",
       "  10 │ Argentine        2         3     2777   28          2         0\n",
       "  11 │ Australia        6         2     7690   15          1         1\n",
       "  ⋮  │        ⋮            ⋮       ⋮      ⋮        ⋮          ⋮         ⋮      ⋱\n",
       " 185 │ USSR             5         1     22402  274         5         6\n",
       " 186 │ Vanuatu          6         2     15     0           6         1         ⋯\n",
       " 187 │ Vatican-City     3         1     0      0           6         0\n",
       " 188 │ Venezuela        2         4     912    15          2         0\n",
       " 189 │ Vietnam          5         1     333    60          10        6\n",
       " 190 │ Western-Samoa    6         3     3      0           1         1         ⋯\n",
       " 191 │ Yugoslavia       3         1     256    22          6         6\n",
       " 192 │ Zaire            4         2     905    28          10        5\n",
       " 193 │ Zambia           4         2     753    6           10        5\n",
       " 194 │ Zimbabwe         4         2     391    8           10        5         ⋯\n",
       "\u001b[36m                                                 23 columns and 173 rows omitted\u001b[0m"
      ]
     },
     "execution_count": 3,
     "metadata": {},
     "output_type": "execute_result"
    }
   ],
   "source": [
    "names = [\"name\",\"landmass\",\"zone\", \"area\", \"population\",\"language\", \"religion\",\n",
    "\"bars\", \"stripes\",  \"colours\", \"red\", \"green\",\"blue\", \"gold\", \"white\", \"black\", \"orange\",\n",
    "\"mainhue\", \"circles\", \"crosses\", \"saltires\", \"quarters\", \"sunstars\", \"crescent\",\n",
    "\"triangle\", \"icon\", \"animate\", \"text\", \"topleft\", \"botright\"]\n",
    "rename!(df, names)"
   ]
  },
  {
   "attachments": {},
   "cell_type": "markdown",
   "metadata": {},
   "source": [
    "   4. area\tin thousands of square km\n",
    "   5. population in round millions\n",
    "\n",
    "   zatem 0 poniżej tych wartości\n",
    "   <br>\n",
    "   <br> icon and animate: kandydaci do zmergowania\n",
    "   <br> topleft, botright, zone - do usunięcia\n",
    "   <br> RELIGION marixists naprawic\n",
    "   <br> \n",
    "   <br> POMYSŁ: logarytmizacja area (albo inna mądrzejsza funkcja)"
   ]
  },
  {
   "cell_type": "code",
   "execution_count": 4,
   "metadata": {},
   "outputs": [],
   "source": [
    "# for i in names[2:30]\n",
    "#     display(Plots.bar(collect(keys(countmap(df[:,i]))), collect(values(countmap(df[:,i]))),\n",
    "#     orientation=:vertical, label = i))\n",
    "# end"
   ]
  },
  {
   "cell_type": "code",
   "execution_count": 5,
   "metadata": {},
   "outputs": [],
   "source": [
    "# VARIABLES TRANSFORMATIONS\n",
    "\n",
    "df[!,:mainhue] = [x == \"brown\" ? 0 : x for x in df[!,:mainhue]]\n",
    "df[!,:mainhue] = [x == \"gold\" ? 1 : x for x in df[!,:mainhue]]\n",
    "df[!,:mainhue] = [x == \"white\" ? 2 : x for x in df[!,:mainhue]]\n",
    "df[!,:mainhue] = [x == \"orange\" ? 3 : x for x in df[!,:mainhue]]\n",
    "df[!,:mainhue] = [x == \"blue\" ? 4 : x for x in df[!,:mainhue]]\n",
    "df[!,:mainhue] = [x == \"green\" ? 5 : x for x in df[!,:mainhue]]\n",
    "df[!,:mainhue] = [x == \"black\" ? 6 : x for x in df[!,:mainhue]]\n",
    "df[!,:mainhue] = [x == \"red\" ? 7 : x for x in df[!,:mainhue]]\n",
    "\n",
    "df[!,:topleft] = [x == \"gold\" ? 1 : x for x in df[!,:topleft]]\n",
    "df[!,:topleft] = [x == \"white\" ? 2 : x for x in df[!,:topleft]]\n",
    "df[!,:topleft] = [x == \"orange\" ? 3 : x for x in df[!,:topleft]]\n",
    "df[!,:topleft] = [x == \"blue\" ? 4 : x for x in df[!,:topleft]]\n",
    "df[!,:topleft] = [x == \"green\" ? 5 : x for x in df[!,:topleft]]\n",
    "df[!,:topleft] = [x == \"black\" ? 6 : x for x in df[!,:topleft]]\n",
    "df[!,:topleft] = [x == \"red\" ? 7 : x for x in df[!,:topleft]]\n",
    "\n",
    "df[!,:botright] = [x == \"brown\" ? 0 : x for x in df[!,:botright]]\n",
    "df[!,:botright] = [x == \"gold\" ? 1 : x for x in df[!,:botright]]\n",
    "df[!,:botright] = [x == \"white\" ? 2 : x for x in df[!,:botright]]\n",
    "df[!,:botright] = [x == \"orange\" ? 3 : x for x in df[!,:botright]]\n",
    "df[!,:botright] = [x == \"blue\" ? 4 : x for x in df[!,:botright]]\n",
    "df[!,:botright] = [x == \"green\" ? 5 : x for x in df[!,:botright]]\n",
    "df[!,:botright] = [x == \"black\" ? 6 : x for x in df[!,:botright]]\n",
    "df[!,:botright] = [x == \"red\" ? 7 : x for x in df[!,:botright]]\n",
    "\n",
    "# numbers of circles in the flag\n",
    "df[!,:circles] = [x >= 1 ? 1 : 0 for x in df[!,:circles]]\n",
    "# crosses upright\n",
    "df[!,:crosses] = [x >= 1 ? 1 : 0 for x in df[!,:crosses]]\n",
    "# saltires\n",
    "df[!,:saltires] = [x >= 1 ? 1 : 0 for x in df[!,:saltires]]\n",
    "# sunstars\n",
    "df[!,:sunstars] = [x >= 1 ? 1 : 0 for x in df[!,:sunstars]];\n",
    "\n",
    "# # removing botright and topleft\n",
    "\n",
    "# df = df[:,Not([:topleft,:botright])]\n",
    "\n",
    "#  df = df[(df.religion .!= \"6\"), :]"
   ]
  },
  {
   "cell_type": "code",
   "execution_count": 6,
   "metadata": {},
   "outputs": [],
   "source": [
    "# # for now: RECODING RELIGION\n",
    "\n",
    "# df[!,:religion] = [x <= 1 ? 1 : 0 for x in df[!,:religion]];     # 1 jeśli jest christian (catolics and other christians)\n",
    "#                                                                 # 0 if other"
   ]
  },
  {
   "cell_type": "code",
   "execution_count": 7,
   "metadata": {},
   "outputs": [
    {
     "data": {
      "text/plain": [
       "scale (generic function with 1 method)"
      ]
     },
     "execution_count": 7,
     "metadata": {},
     "output_type": "execute_result"
    }
   ],
   "source": [
    "# NORMALIZACJA\n",
    "\n",
    "function scale(X)\n",
    "\n",
    "    # zwraca wektor z parametrami dla każdej ze zmiennych\n",
    "    μ_X = mean(X, dims=2)\n",
    "    σ_X = std(X, dims=2)\n",
    "\n",
    "    X_norm = (X .- μ_X) ./ σ_X\n",
    "\n",
    "    return (X_norm, μ_X, σ_X);\n",
    "end"
   ]
  },
  {
   "cell_type": "code",
   "execution_count": 8,
   "metadata": {},
   "outputs": [
    {
     "data": {
      "text/plain": [
       "194-element Vector{Any}:\n",
       " 2\n",
       " 6\n",
       " 2\n",
       " 1\n",
       " 0\n",
       " 5\n",
       " 1\n",
       " 1\n",
       " 0\n",
       " 0\n",
       " 1\n",
       " 0\n",
       " 1\n",
       " ⋮\n",
       " 1\n",
       " 1\n",
       " 6\n",
       " 1\n",
       " 0\n",
       " 0\n",
       " 6\n",
       " 1\n",
       " 6\n",
       " 5\n",
       " 5\n",
       " 5"
      ]
     },
     "execution_count": 8,
     "metadata": {},
     "output_type": "execute_result"
    }
   ],
   "source": [
    "X = Matrix(df[:, Not(1, 7)])'\n",
    "y = df[:, 7]"
   ]
  },
  {
   "cell_type": "code",
   "execution_count": 9,
   "metadata": {},
   "outputs": [],
   "source": [
    "X_norm, μ_X, σ_X = scale(X)\n",
    "X_norm;"
   ]
  },
  {
   "cell_type": "code",
   "execution_count": 10,
   "metadata": {},
   "outputs": [
    {
     "data": {
      "text/plain": [
       "Chain(layer₁)"
      ]
     },
     "execution_count": 10,
     "metadata": {},
     "output_type": "execute_result"
    }
   ],
   "source": [
    "n_neurons = 1\n",
    "\n",
    "W = rand(n_neurons, size(X_norm)[1])\n",
    "b = rand(n_neurons)\n",
    "\n",
    "layer₁(x) = σ.(W * x .+ b)\n",
    "m = Chain(layer₁)"
   ]
  },
  {
   "cell_type": "code",
   "execution_count": 11,
   "metadata": {},
   "outputs": [
    {
     "data": {
      "text/plain": [
       "1×194 Matrix{Float64}:\n",
       " 0.97613  0.337818  0.429142  0.990591  …  0.956181  0.0657672  0.99866"
      ]
     },
     "execution_count": 11,
     "metadata": {},
     "output_type": "execute_result"
    }
   ],
   "source": [
    "layer₁(X_norm)  # wartości na neuronach (jedna warstwa)\n",
    "\n",
    "# albo tak, też dobry zapis:\n",
    "m(X_norm)"
   ]
  },
  {
   "cell_type": "code",
   "execution_count": 12,
   "metadata": {},
   "outputs": [],
   "source": [
    "# ŷ = deepcopy(vec(m(X_norm)'));"
   ]
  },
  {
   "cell_type": "code",
   "execution_count": 13,
   "metadata": {},
   "outputs": [
    {
     "data": {
      "text/plain": [
       "loss (generic function with 1 method)"
      ]
     },
     "execution_count": 13,
     "metadata": {},
     "output_type": "execute_result"
    }
   ],
   "source": [
    "# loss(ŷ, y)  = Flux.crossentropy(ŷ,y)\n",
    "# loss(ŷ, y)  = Flux.crossentropy(vec(m(X_norm)'),y)\n",
    "\n",
    "loss(ŷ, y) = Flux.mse(vec(m(X_norm)'), y)\n",
    "# opt_state = Flux.setup(Flux.Adam(0.01), m)"
   ]
  },
  {
   "cell_type": "code",
   "execution_count": 14,
   "metadata": {},
   "outputs": [
    {
     "data": {
      "text/plain": [
       "7.448267988682697"
      ]
     },
     "execution_count": 14,
     "metadata": {},
     "output_type": "execute_result"
    }
   ],
   "source": [
    "loss(m(X_norm), y)"
   ]
  },
  {
   "cell_type": "code",
   "execution_count": 15,
   "metadata": {},
   "outputs": [
    {
     "data": {
      "text/plain": [
       "Adam(0.001, (0.9, 0.999), 1.0e-8, IdDict{Any, Any}())"
      ]
     },
     "execution_count": 15,
     "metadata": {},
     "output_type": "execute_result"
    }
   ],
   "source": [
    "using LinearAlgebra\n",
    "opt = ADAM()"
   ]
  },
  {
   "attachments": {},
   "cell_type": "markdown",
   "metadata": {},
   "source": [
    "<hr/>"
   ]
  },
  {
   "cell_type": "markdown",
   "metadata": {},
   "source": [
    "Warto jednak zaznaczyć, że pozwala ona na uczenie jedynie przez pojedynczą epokę. Aby móc kontynuować proces uczenia dalej musimy w odpowiedni sposób przystować dane z których korzystamy:"
   ]
  },
  {
   "cell_type": "code",
   "execution_count": 16,
   "metadata": {},
   "outputs": [
    {
     "data": {
      "text/plain": [
       "Base.Iterators.Take{Base.Iterators.Repeated{Tuple{Matrix{Float64}, Vector{Any}}}}(Base.Iterators.Repeated{Tuple{Matrix{Float64}, Vector{Any}}}(([0.9193939892483797 -0.3684214180742606 … 0.2754862855870595 0.2754862855870595; -0.92590719196647 -0.92590719196647 … -0.16154125476861825 -0.16154125476861825; … ; 0.709452739052039 1.2230118113509028 … 0.1958936667531751 0.1958936667531751; -0.002740111349637368 1.0604230923096654 … -2.660648120497894 -0.002740111349637368], Any[2, 6, 2, 1, 0, 5, 1, 1, 0, 0  …  6, 1, 0, 0, 6, 1, 6, 5, 5, 5])), 200)"
      ]
     },
     "execution_count": 16,
     "metadata": {},
     "output_type": "execute_result"
    }
   ],
   "source": [
    "using Base.Iterators: repeated\n",
    "dataset = repeated((X_norm, y), 200)"
   ]
  },
  {
   "cell_type": "markdown",
   "metadata": {},
   "source": [
    "albo skorzystać z makra <tt>@epochs</tt>:"
   ]
  },
  {
   "cell_type": "code",
   "execution_count": 17,
   "metadata": {},
   "outputs": [],
   "source": [
    "# Flux.@epochs"
   ]
  },
  {
   "cell_type": "markdown",
   "metadata": {},
   "source": [
    "Pozwala ona też na definiowanie wywołań, które pozwolą nam kontrolować przebieg uczenia."
   ]
  },
  {
   "cell_type": "code",
   "execution_count": 18,
   "metadata": {},
   "outputs": [],
   "source": [
    "# evalcb = () -> @show(loss(tX, tY))"
   ]
  },
  {
   "cell_type": "code",
   "execution_count": 19,
   "metadata": {},
   "outputs": [
    {
     "data": {
      "text/plain": [
       "Adam(0.001, (0.9, 0.999), 1.0e-8, IdDict{Any, Any}())"
      ]
     },
     "execution_count": 19,
     "metadata": {},
     "output_type": "execute_result"
    }
   ],
   "source": [
    "dataset = repeated((X_norm, y), 200)\n",
    "evalcb = () -> @show(loss(X_norm, y))\n",
    "opt = ADAM()"
   ]
  },
  {
   "cell_type": "code",
   "execution_count": 20,
   "metadata": {},
   "outputs": [
    {
     "data": {
      "text/plain": [
       "1×194 Matrix{Float64}:\n",
       " 0.97613  0.337818  0.429142  0.990591  …  0.956181  0.0657672  0.99866"
      ]
     },
     "execution_count": 20,
     "metadata": {},
     "output_type": "execute_result"
    }
   ],
   "source": [
    "Flux.train!(loss, Flux.params(m), dataset, opt)\n",
    "# Flux.train!(loss, Flux.params(m), dataset, opt, cb = throttle(evalcb, 10))\n",
    "m(X_norm)"
   ]
  },
  {
   "cell_type": "code",
   "execution_count": 21,
   "metadata": {},
   "outputs": [
    {
     "data": {
      "text/plain": [
       "Dict{Bool, Int64} with 2 entries:\n",
       "  0 => 135\n",
       "  1 => 59"
      ]
     },
     "execution_count": 21,
     "metadata": {},
     "output_type": "execute_result"
    }
   ],
   "source": [
    "y_fitted = m(X_norm).>= 0.5\n",
    "y_fitted .== y'\n",
    "countmap(y_fitted .== y')"
   ]
  },
  {
   "cell_type": "code",
   "execution_count": 22,
   "metadata": {},
   "outputs": [
    {
     "data": {
      "text/plain": [
       "0.30412371134020616"
      ]
     },
     "execution_count": 22,
     "metadata": {},
     "output_type": "execute_result"
    }
   ],
   "source": [
    "accuracy(X, y, T = 0.5) = sum((X.≥ T).== y')/length(y)\n",
    "accuracy(m(X_norm), y)"
   ]
  },
  {
   "attachments": {},
   "cell_type": "markdown",
   "metadata": {},
   "source": [
    "<hr/>"
   ]
  },
  {
   "attachments": {},
   "cell_type": "markdown",
   "metadata": {},
   "source": [
    "Może zastosować ten cały dropout np dla sieci skoro mamy mały zbiór?"
   ]
  },
  {
   "cell_type": "code",
   "execution_count": 23,
   "metadata": {},
   "outputs": [],
   "source": [
    "# for i in 19:30\n",
    "#     println(names[i])\n",
    "#     println(countmap(df[:,i]))\n",
    "# end"
   ]
  },
  {
   "cell_type": "code",
   "execution_count": 24,
   "metadata": {},
   "outputs": [],
   "source": [
    "# for i in names[19:30]\n",
    "#     display(Plots.bar(collect(keys(countmap(df[:,i]))), collect(values(countmap(df[:,i]))),\n",
    "#     orientation=:vertical, label = i))\n",
    "# end"
   ]
  },
  {
   "cell_type": "code",
   "execution_count": 25,
   "metadata": {},
   "outputs": [],
   "source": [
    "histogram(df[:,7], bar_width = .8, label = \"religion\");"
   ]
  },
  {
   "cell_type": "code",
   "execution_count": null,
   "metadata": {},
   "outputs": [],
   "source": [
    "describe(df);\n",
    "cmap_religion = countmap(df[:,7]);"
   ]
  },
  {
   "cell_type": "code",
   "execution_count": null,
   "metadata": {},
   "outputs": [],
   "source": [
    "describe(df);\n",
    "cmap_religion = countmap(df[:,7]);"
   ]
  },
  {
   "cell_type": "code",
   "execution_count": null,
   "metadata": {},
   "outputs": [],
   "source": [
    "# tutaj są te ćwiartki, widać kolonie fajnie\n",
    "df[df.quarters.>=1,:];"
   ]
  },
  {
   "cell_type": "code",
   "execution_count": null,
   "metadata": {},
   "outputs": [],
   "source": [
    "# stare kraje ZSRR oznaczone jako marxists\n",
    "df[df.religion.==6,:];"
   ]
  },
  {
   "cell_type": "code",
   "execution_count": null,
   "metadata": {},
   "outputs": [],
   "source": [
    "# countries having less then 1 million population (chyba głównie wyspy)\n",
    "df[df.population.==0,:];"
   ]
  },
  {
   "cell_type": "code",
   "execution_count": null,
   "metadata": {},
   "outputs": [],
   "source": [
    "# countries that have less than 1 thousands sqare meters\n",
    "df[df.area.==0,:];"
   ]
  }
 ],
 "metadata": {
  "kernelspec": {
   "display_name": "Julia 1.8.2",
   "language": "julia",
   "name": "julia-1.8"
  },
  "language_info": {
   "file_extension": ".jl",
   "mimetype": "application/julia",
   "name": "julia",
   "version": "1.8.2"
  },
  "orig_nbformat": 4,
  "vscode": {
   "interpreter": {
    "hash": "47e86d731e077963188d400b641a1f5cee6401b89b8a1175acb1a082248e2517"
   }
  }
 },
 "nbformat": 4,
 "nbformat_minor": 2
}
