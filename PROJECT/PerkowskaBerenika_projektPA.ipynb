{
 "cells": [
  {
   "cell_type": "code",
   "execution_count": 312,
   "metadata": {},
   "outputs": [],
   "source": [
    "using DelimitedFiles\n",
    "using StatsBase\n",
    "using DataFrames\n",
    "using Plots"
   ]
  },
  {
   "attachments": {},
   "cell_type": "markdown",
   "metadata": {},
   "source": [
    "Attribute Information:\n",
    "1. name\tName of the country concerned\n",
    "2. landmass\t1=N.America, 2=S.America, 3=Europe, 4=Africa, 4=Asia, 6=Oceania\n",
    "3. zone\tGeographic quadrant, based on Greenwich and the Equator\n",
    "               1=NE, 2=SE, 3=SW, 4=NW\n",
    "4. area\tin thousands of square km\n",
    "5. population\tin round millions\n",
    "6. language 1=English, 2=Spanish, 3=French, 4=German, 5=Slavic, 6=Other \n",
    "            Indo-European, 7=Chinese, 8=Arabic, \n",
    "            9=Japanese/Turkish/Finnish/Magyar, 10=Others\n",
    "7. religion 0=Catholic, 1=Other Christian, 2=Muslim, 3=Buddhist, 4=Hindu,\n",
    "            5=Ethnic, 6=Marxist, 7=Others\n",
    "8. bars     Number of vertical bars in the flag\n",
    "9. stripes  Number of horizontal stripes in the flag\n",
    "10. colours  Number of different colours in the flag\n",
    "11. red      0 if red absent, 1 if red present in the flag\n",
    "12. green    same for green\n",
    "13. blue     same for blue\n",
    "14. gold     same for gold (also yellow)\n",
    "15. white    same for white\n",
    "16. black    same for black\n",
    "17. orange   same for orange (also brown)\n",
    "18. mainhue  predominant colour in the flag (tie-breaks decided by taking\n",
    "            the topmost hue, if that fails then the most central hue,\n",
    "            and if that fails the leftmost hue)\n",
    "19. circles  Number of circles in the flag\n",
    "20. crosses  Number of (upright) crosses\n",
    "21. saltires Number of diagonal crosses\n",
    "22. quarters Number of quartered sections\n",
    "23. sunstars Number of sun or star symbols\n",
    "24. crescent 1 if a crescent moon symbol present, else 0\n",
    "25. triangle 1 if any triangles present, 0 otherwise\n",
    "26. icon     1 if an inanimate image present (e.g., a boat), otherwise 0\n",
    "27. animate  1 if an animate image (e.g., an eagle, a tree, a human hand)\n",
    "            present, 0 otherwise\n",
    "28. text     1 if any letters or writing on the flag (e.g., a motto or\n",
    "            slogan), 0 otherwise\n",
    "29. topleft  colour in the top-left corner (moving right to decide \n",
    "            tie-breaks)\n",
    "30. botright Colour in the bottom-left corner (moving left to decide \n",
    "            tie-breaks)"
   ]
  },
  {
   "cell_type": "code",
   "execution_count": 313,
   "metadata": {},
   "outputs": [],
   "source": [
    "rawdata = readdlm(\"flag.data\", ',')\n",
    "df = DataFrame(rawdata, :auto);"
   ]
  },
  {
   "cell_type": "code",
   "execution_count": 314,
   "metadata": {},
   "outputs": [],
   "source": [
    "names = [\"name\",\"landmass\",\"zone\", \"area\", \"population\",\"language\", \"religion\",\n",
    "\"bars\", \"stripes\",  \"colours\", \"red\", \"green\",\"blue\", \"gold\", \"white\", \"black\", \"orange\",\n",
    "\"mainhue\", \"circles\", \"crosses\", \"saltires\", \"quarters\", \"sunstars\", \"crescent\",\n",
    "\"triangle\", \"icon\", \"animate\", \"text\", \"topleft\", \"botright\"]\n",
    "rename!(df, names);"
   ]
  },
  {
   "attachments": {},
   "cell_type": "markdown",
   "metadata": {},
   "source": [
    "   4. area\tin thousands of square km\n",
    "   5. population in round millions\n",
    "\n",
    "   zatem 0 poniżej tych wartości\n",
    "   <br>\n",
    "   <br> icon and animate: kandydaci do zmergowania\n",
    "   <br> topleft, botright, zone - do usunięcia\n",
    "   <br> RELIGION marixists naprawic\n",
    "   <br> \n",
    "   <br> POMYSŁ: logarytmizacja area (albo inna mądrzejsza funkcja)"
   ]
  },
  {
   "cell_type": "code",
   "execution_count": 315,
   "metadata": {},
   "outputs": [],
   "source": [
    "# tutaj są te ćwiartki, widać kolonie fajnie\n",
    "df[df.quarters.>=1,:];"
   ]
  },
  {
   "cell_type": "code",
   "execution_count": 316,
   "metadata": {},
   "outputs": [],
   "source": [
    "# stare kraje ZSRR oznaczone jako marxists\n",
    "df[df.religion.==6,:];"
   ]
  },
  {
   "cell_type": "code",
   "execution_count": 317,
   "metadata": {},
   "outputs": [],
   "source": [
    "# for Poland\n",
    "df[df.name.==\"Poland\",:];"
   ]
  },
  {
   "cell_type": "code",
   "execution_count": 318,
   "metadata": {},
   "outputs": [],
   "source": [
    "# countries having less then 1 million population (chyba głównie wyspy)\n",
    "df[df.population.==0,:];"
   ]
  },
  {
   "cell_type": "code",
   "execution_count": 319,
   "metadata": {},
   "outputs": [],
   "source": [
    "# countries that have less than 1 thousands sqare meters\n",
    "df[df.area.==0,:];"
   ]
  },
  {
   "cell_type": "code",
   "execution_count": 320,
   "metadata": {},
   "outputs": [],
   "source": [
    "# for i in names[2:30]\n",
    "#     display(Plots.bar(collect(keys(countmap(df[:,i]))), collect(values(countmap(df[:,i]))),\n",
    "#     orientation=:vertical, label = i))\n",
    "# end"
   ]
  },
  {
   "cell_type": "code",
   "execution_count": 321,
   "metadata": {},
   "outputs": [],
   "source": [
    "# for i in 19:30\n",
    "#     println(names[i])\n",
    "#     println(countmap(df[:,i]))\n",
    "# end"
   ]
  },
  {
   "cell_type": "code",
   "execution_count": 322,
   "metadata": {},
   "outputs": [],
   "source": [
    "# recoding\n",
    "\n",
    "# numbers of circles in the flag\n",
    "df[!,:circles] = [x >= 1 ? 1 : 0 for x in df[!,:circles]]\n",
    "\n",
    "#crosses upright\n",
    "df[!,:crosses] = [x >= 1 ? 1 : 0 for x in df[!,:crosses]]\n",
    "\n",
    "# saltires\n",
    "df[!,:saltires] = [x >= 1 ? 1 : 0 for x in df[!,:saltires]]\n",
    "\n",
    "# sunstars\n",
    "df[!,:sunstars] = [x >= 1 ? 1 : 0 for x in df[!,:sunstars]];"
   ]
  },
  {
   "attachments": {},
   "cell_type": "markdown",
   "metadata": {},
   "source": [
    "Może zastosować ten cały noosting dla sieci skoro mamy mały zbiór?"
   ]
  },
  {
   "cell_type": "code",
   "execution_count": null,
   "metadata": {},
   "outputs": [],
   "source": [
    "train_ratio = 0.7\n",
    "train_set = df[1:floor(Int,size(df,1)*train_ratio),:];\n",
    "test_set = df[floor(Int,size(df,1)*train_ratio + 1):end,:];"
   ]
  },
  {
   "attachments": {},
   "cell_type": "markdown",
   "metadata": {},
   "source": [
    "<hr/>"
   ]
  },
  {
   "cell_type": "code",
   "execution_count": 323,
   "metadata": {},
   "outputs": [],
   "source": [
    "# for i in 19:30\n",
    "#     println(names[i])\n",
    "#     println(countmap(df[:,i]))\n",
    "# end"
   ]
  },
  {
   "cell_type": "code",
   "execution_count": 324,
   "metadata": {},
   "outputs": [],
   "source": [
    "# for i in names[19:30]\n",
    "#     display(Plots.bar(collect(keys(countmap(df[:,i]))), collect(values(countmap(df[:,i]))),\n",
    "#     orientation=:vertical, label = i))\n",
    "# end"
   ]
  },
  {
   "cell_type": "code",
   "execution_count": 325,
   "metadata": {},
   "outputs": [],
   "source": [
    "histogram(df[:,7], bar_width = .8, label = \"religion\");"
   ]
  },
  {
   "cell_type": "code",
   "execution_count": 326,
   "metadata": {},
   "outputs": [
    {
     "data": {
      "text/plain": [
       "Dict{Any, Int64} with 8 entries:\n",
       "  0 => 40\n",
       "  5 => 27\n",
       "  6 => 15\n",
       "  4 => 4\n",
       "  2 => 36\n",
       "  7 => 4\n",
       "  3 => 8\n",
       "  1 => 60"
      ]
     },
     "execution_count": 326,
     "metadata": {},
     "output_type": "execute_result"
    }
   ],
   "source": [
    "describe(df);\n",
    "cmap_religion = countmap(df[:,7]);"
   ]
  }
 ],
 "metadata": {
  "kernelspec": {
   "display_name": "Julia 1.8.2",
   "language": "julia",
   "name": "julia-1.8"
  },
  "language_info": {
   "file_extension": ".jl",
   "mimetype": "application/julia",
   "name": "julia",
   "version": "1.8.2"
  },
  "orig_nbformat": 4,
  "vscode": {
   "interpreter": {
    "hash": "47e86d731e077963188d400b641a1f5cee6401b89b8a1175acb1a082248e2517"
   }
  }
 },
 "nbformat": 4,
 "nbformat_minor": 2
}
