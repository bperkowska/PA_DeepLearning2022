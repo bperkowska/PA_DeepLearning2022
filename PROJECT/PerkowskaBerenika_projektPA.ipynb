{
 "cells": [
  {
   "cell_type": "code",
   "execution_count": 1,
   "metadata": {},
   "outputs": [],
   "source": [
    "using DelimitedFiles\n",
    "using StatsBase\n",
    "using DataFrames\n",
    "using Plots\n",
    "using Flux"
   ]
  },
  {
   "attachments": {},
   "cell_type": "markdown",
   "metadata": {},
   "source": [
    "Attribute Information:\n",
    "1. name\tName of the country concerned\n",
    "2. landmass\t1=N.America, 2=S.America, 3=Europe, 4=Africa, 4=Asia, 6=Oceania\n",
    "3. zone\tGeographic quadrant, based on Greenwich and the Equator\n",
    "               1=NE, 2=SE, 3=SW, 4=NW\n",
    "4. area\tin thousands of square km\n",
    "5. population\tin round millions\n",
    "6. language 1=English, 2=Spanish, 3=French, 4=German, 5=Slavic, 6=Other \n",
    "            Indo-European, 7=Chinese, 8=Arabic, \n",
    "            9=Japanese/Turkish/Finnish/Magyar, 10=Others\n",
    "7. religion 0=Catholic, 1=Other Christian, 2=Muslim, 3=Buddhist, 4=Hindu,\n",
    "            5=Ethnic, 6=Marxist, 7=Others\n",
    "8. bars     Number of vertical bars in the flag\n",
    "9. stripes  Number of horizontal stripes in the flag\n",
    "10. colours  Number of different colours in the flag\n",
    "11. red      0 if red absent, 1 if red present in the flag\n",
    "12. green    same for green\n",
    "13. blue     same for blue\n",
    "14. gold     same for gold (also yellow)\n",
    "15. white    same for white\n",
    "16. black    same for black\n",
    "17. orange   same for orange (also brown)\n",
    "18. mainhue  predominant colour in the flag (tie-breaks decided by taking\n",
    "            the topmost hue, if that fails then the most central hue,\n",
    "            and if that fails the leftmost hue)\n",
    "19. circles  Number of circles in the flag\n",
    "20. crosses  Number of (upright) crosses\n",
    "21. saltires Number of diagonal crosses\n",
    "22. quarters Number of quartered sections\n",
    "23. sunstars Number of sun or star symbols\n",
    "24. crescent 1 if a crescent moon symbol present, else 0\n",
    "25. triangle 1 if any triangles present, 0 otherwise\n",
    "26. icon     1 if an inanimate image present (e.g., a boat), otherwise 0\n",
    "27. animate  1 if an animate image (e.g., an eagle, a tree, a human hand)\n",
    "            present, 0 otherwise\n",
    "28. text     1 if any letters or writing on the flag (e.g., a motto or\n",
    "            slogan), 0 otherwise\n",
    "29. topleft  colour in the top-left corner (moving right to decide \n",
    "            tie-breaks)\n",
    "30. botright Colour in the bottom-left corner (moving left to decide \n",
    "            tie-breaks)"
   ]
  },
  {
   "cell_type": "code",
   "execution_count": 2,
   "metadata": {},
   "outputs": [],
   "source": [
    "rawdata = readdlm(\"flag.data\", ',')\n",
    "df = DataFrame(rawdata, :auto);"
   ]
  },
  {
   "cell_type": "code",
   "execution_count": 3,
   "metadata": {},
   "outputs": [],
   "source": [
    "names = [\"name\",\"landmass\",\"zone\", \"area\", \"population\",\"language\", \"religion\",\n",
    "\"bars\", \"stripes\",  \"colours\", \"red\", \"green\",\"blue\", \"gold\", \"white\", \"black\", \"orange\",\n",
    "\"mainhue\", \"circles\", \"crosses\", \"saltires\", \"quarters\", \"sunstars\", \"crescent\",\n",
    "\"triangle\", \"icon\", \"animate\", \"text\", \"topleft\", \"botright\"]\n",
    "rename!(df, names);"
   ]
  },
  {
   "attachments": {},
   "cell_type": "markdown",
   "metadata": {},
   "source": [
    "   4. area\tin thousands of square km\n",
    "   5. population in round millions\n",
    "\n",
    "   zatem 0 poniżej tych wartości\n",
    "   <br>\n",
    "   <br> icon and animate: kandydaci do zmergowania\n",
    "   <br> topleft, botright, zone - do usunięcia\n",
    "   <br> RELIGION marixists naprawic\n",
    "   <br> \n",
    "   <br> POMYSŁ: logarytmizacja area (albo inna mądrzejsza funkcja)"
   ]
  },
  {
   "cell_type": "code",
   "execution_count": 4,
   "metadata": {},
   "outputs": [],
   "source": [
    "# tutaj są te ćwiartki, widać kolonie fajnie\n",
    "df[df.quarters.>=1,:];"
   ]
  },
  {
   "cell_type": "code",
   "execution_count": 5,
   "metadata": {},
   "outputs": [],
   "source": [
    "# stare kraje ZSRR oznaczone jako marxists\n",
    "df[df.religion.==6,:];"
   ]
  },
  {
   "cell_type": "code",
   "execution_count": 6,
   "metadata": {},
   "outputs": [],
   "source": [
    "# for Poland\n",
    "df[df.name.==\"Poland\",:];"
   ]
  },
  {
   "cell_type": "code",
   "execution_count": 7,
   "metadata": {},
   "outputs": [],
   "source": [
    "# countries having less then 1 million population (chyba głównie wyspy)\n",
    "df[df.population.==0,:];"
   ]
  },
  {
   "cell_type": "code",
   "execution_count": 8,
   "metadata": {},
   "outputs": [],
   "source": [
    "# countries that have less than 1 thousands sqare meters\n",
    "df[df.area.==0,:];"
   ]
  },
  {
   "cell_type": "code",
   "execution_count": 9,
   "metadata": {},
   "outputs": [],
   "source": [
    "# for i in names[2:30]\n",
    "#     display(Plots.bar(collect(keys(countmap(df[:,i]))), collect(values(countmap(df[:,i]))),\n",
    "#     orientation=:vertical, label = i))\n",
    "# end"
   ]
  },
  {
   "cell_type": "code",
   "execution_count": 10,
   "metadata": {},
   "outputs": [
    {
     "data": {
      "text/plain": [
       "Dict{Any, Int64} with 8 entries:\n",
       "  \"brown\"  => 2\n",
       "  \"gold\"   => 9\n",
       "  \"white\"  => 17\n",
       "  \"orange\" => 1\n",
       "  \"blue\"   => 47\n",
       "  \"green\"  => 40\n",
       "  \"black\"  => 9\n",
       "  \"red\"    => 69"
      ]
     },
     "execution_count": 10,
     "metadata": {},
     "output_type": "execute_result"
    }
   ],
   "source": [
    "countmap(df[:,:botright])"
   ]
  },
  {
   "cell_type": "code",
   "execution_count": 11,
   "metadata": {},
   "outputs": [],
   "source": [
    "# VARIABLES TRANSFORMATIONS\n",
    "\n",
    "df[!,:mainhue] = [x == \"brown\" ? 0 : x for x in df[!,:mainhue]]\n",
    "df[!,:mainhue] = [x == \"gold\" ? 1 : x for x in df[!,:mainhue]]\n",
    "df[!,:mainhue] = [x == \"white\" ? 2 : x for x in df[!,:mainhue]]\n",
    "df[!,:mainhue] = [x == \"orange\" ? 3 : x for x in df[!,:mainhue]]\n",
    "df[!,:mainhue] = [x == \"blue\" ? 4 : x for x in df[!,:mainhue]]\n",
    "df[!,:mainhue] = [x == \"green\" ? 5 : x for x in df[!,:mainhue]]\n",
    "df[!,:mainhue] = [x == \"black\" ? 6 : x for x in df[!,:mainhue]]\n",
    "df[!,:mainhue] = [x == \"red\" ? 7 : x for x in df[!,:mainhue]]\n",
    "\n",
    "df[!,:topleft] = [x == \"gold\" ? 1 : x for x in df[!,:topleft]]\n",
    "df[!,:topleft] = [x == \"white\" ? 2 : x for x in df[!,:topleft]]\n",
    "df[!,:topleft] = [x == \"orange\" ? 3 : x for x in df[!,:topleft]]\n",
    "df[!,:topleft] = [x == \"blue\" ? 4 : x for x in df[!,:topleft]]\n",
    "df[!,:topleft] = [x == \"green\" ? 5 : x for x in df[!,:topleft]]\n",
    "df[!,:topleft] = [x == \"black\" ? 6 : x for x in df[!,:topleft]]\n",
    "df[!,:topleft] = [x == \"red\" ? 7 : x for x in df[!,:topleft]]\n",
    "\n",
    "df[!,:botright] = [x == \"brown\" ? 0 : x for x in df[!,:botright]]\n",
    "df[!,:botright] = [x == \"gold\" ? 1 : x for x in df[!,:botright]]\n",
    "df[!,:botright] = [x == \"white\" ? 2 : x for x in df[!,:botright]]\n",
    "df[!,:botright] = [x == \"orange\" ? 3 : x for x in df[!,:botright]]\n",
    "df[!,:botright] = [x == \"blue\" ? 4 : x for x in df[!,:botright]]\n",
    "df[!,:botright] = [x == \"green\" ? 5 : x for x in df[!,:botright]]\n",
    "df[!,:botright] = [x == \"black\" ? 6 : x for x in df[!,:botright]]\n",
    "df[!,:botright] = [x == \"red\" ? 7 : x for x in df[!,:botright]]\n",
    "\n",
    "# numbers of circles in the flag\n",
    "df[!,:circles] = [x >= 1 ? 1 : 0 for x in df[!,:circles]]\n",
    "# crosses upright\n",
    "df[!,:crosses] = [x >= 1 ? 1 : 0 for x in df[!,:crosses]]\n",
    "# saltires\n",
    "df[!,:saltires] = [x >= 1 ? 1 : 0 for x in df[!,:saltires]]\n",
    "# sunstars\n",
    "df[!,:sunstars] = [x >= 1 ? 1 : 0 for x in df[!,:sunstars]];"
   ]
  },
  {
   "cell_type": "code",
   "execution_count": 12,
   "metadata": {},
   "outputs": [],
   "source": [
    "# # for now: RECODING RELIGION\n",
    "\n",
    "# df[!,:religion] = [x <= 1 ? 1 : 0 for x in df[!,:religion]];     # 1 jeśli jest christian (catolics and other christians)\n",
    "#                                                                 # 0 if other"
   ]
  },
  {
   "cell_type": "code",
   "execution_count": 13,
   "metadata": {},
   "outputs": [
    {
     "data": {
      "text/plain": [
       "scale (generic function with 1 method)"
      ]
     },
     "execution_count": 13,
     "metadata": {},
     "output_type": "execute_result"
    }
   ],
   "source": [
    "# NORMALIZACJA\n",
    "\n",
    "function scale(X)\n",
    "\n",
    "    # zwraca wektor z parametrami dla każdej ze zmiennych\n",
    "    μ_X = mean(X, dims=2)\n",
    "    σ_X = std(X, dims=2)\n",
    "\n",
    "    X_norm = (X .- μ_X) ./ σ_X\n",
    "\n",
    "    return (X_norm, μ_X, σ_X);\n",
    "end\n",
    "\n",
    "# function scale(y, μ_X, σ_X)\n",
    "#     y_norm = (y .- μ_X) ./ σ_X\n",
    "#     return y_norm;\n",
    "# end"
   ]
  },
  {
   "cell_type": "code",
   "execution_count": 14,
   "metadata": {},
   "outputs": [],
   "source": [
    "X = Matrix(df[:, Not(1, 7)])'\n",
    "y = df[:, 7];"
   ]
  },
  {
   "cell_type": "code",
   "execution_count": 15,
   "metadata": {},
   "outputs": [],
   "source": [
    "X_norm, μ_X, σ_X = scale(X)\n",
    "X_norm;"
   ]
  },
  {
   "cell_type": "code",
   "execution_count": 16,
   "metadata": {},
   "outputs": [
    {
     "data": {
      "text/plain": [
       "Chain(layer₁)"
      ]
     },
     "execution_count": 16,
     "metadata": {},
     "output_type": "execute_result"
    }
   ],
   "source": [
    "n_neurons = 1\n",
    "\n",
    "W = rand(n_neurons, size(X_norm)[1])\n",
    "b = rand(n_neurons)\n",
    "\n",
    "layer₁(x) = σ.(W * x .+ b)\n",
    "m = Chain(layer₁)"
   ]
  },
  {
   "cell_type": "code",
   "execution_count": 17,
   "metadata": {},
   "outputs": [
    {
     "data": {
      "text/plain": [
       "1×194 Matrix{Float64}:\n",
       " 0.97328  0.352178  0.614596  0.998077  …  0.995687  0.941874  0.999387"
      ]
     },
     "execution_count": 17,
     "metadata": {},
     "output_type": "execute_result"
    }
   ],
   "source": [
    "layer₁(X_norm)  # wartości na neuronach"
   ]
  },
  {
   "cell_type": "code",
   "execution_count": 18,
   "metadata": {},
   "outputs": [],
   "source": [
    "ŷ = deepcopy(vec(m(X_norm)'));"
   ]
  },
  {
   "cell_type": "code",
   "execution_count": 19,
   "metadata": {},
   "outputs": [
    {
     "data": {
      "text/plain": [
       "loss (generic function with 1 method)"
      ]
     },
     "execution_count": 19,
     "metadata": {},
     "output_type": "execute_result"
    }
   ],
   "source": [
    "# loss(ŷ, y)  = Flux.crossentropy(ŷ,y)\n",
    "loss(ŷ, y)  = Flux.crossentropy(ŷ,y)"
   ]
  },
  {
   "cell_type": "code",
   "execution_count": 20,
   "metadata": {},
   "outputs": [
    {
     "data": {
      "text/plain": [
       "1399.909559640892"
      ]
     },
     "execution_count": 20,
     "metadata": {},
     "output_type": "execute_result"
    }
   ],
   "source": [
    "size(ŷ)\n",
    "loss(ŷ, y)"
   ]
  },
  {
   "cell_type": "code",
   "execution_count": 21,
   "metadata": {},
   "outputs": [],
   "source": [
    "# opt = ADAM(0.0001)"
   ]
  },
  {
   "cell_type": "code",
   "execution_count": 22,
   "metadata": {},
   "outputs": [
    {
     "data": {
      "text/plain": [
       "Adam(0.001, (0.9, 0.999), 1.0e-8, IdDict{Any, Any}())"
      ]
     },
     "execution_count": 22,
     "metadata": {},
     "output_type": "execute_result"
    }
   ],
   "source": [
    "using LinearAlgebra\n",
    "\n",
    "dataset = Iterators.repeated((X_norm, y), 200)\n",
    "evalcb = () -> @show(loss(X_train, Y))\n",
    "opt = ADAM()\n",
    "\n",
    "\n",
    "# accuracy(X_norm, y) # chcemy żeby accuracy było mniej więcej 0.1"
   ]
  },
  {
   "cell_type": "code",
   "execution_count": 23,
   "metadata": {},
   "outputs": [
    {
     "ename": "LoadError",
     "evalue": "UndefVarError: throttle not defined",
     "output_type": "error",
     "traceback": [
      "UndefVarError: throttle not defined",
      "",
      "Stacktrace:",
      " [1] top-level scope",
      "   @ In[23]:1",
      " [2] eval",
      "   @ .\\boot.jl:368 [inlined]",
      " [3] include_string(mapexpr::typeof(REPL.softscope), mod::Module, code::String, filename::String)",
      "   @ Base .\\loading.jl:1428"
     ]
    }
   ],
   "source": [
    "Flux.train!(loss, Flux.params(m), dataset = (X_norm, y), opt, cb = throttle(evalcb, 8))"
   ]
  },
  {
   "attachments": {},
   "cell_type": "markdown",
   "metadata": {},
   "source": [
    "<hr/>"
   ]
  },
  {
   "attachments": {},
   "cell_type": "markdown",
   "metadata": {},
   "source": [
    "Może zastosować ten cały dropout np dla sieci skoro mamy mały zbiór?"
   ]
  },
  {
   "cell_type": "code",
   "execution_count": null,
   "metadata": {},
   "outputs": [],
   "source": [
    "# for i in 19:30\n",
    "#     println(names[i])\n",
    "#     println(countmap(df[:,i]))\n",
    "# end"
   ]
  },
  {
   "cell_type": "code",
   "execution_count": null,
   "metadata": {},
   "outputs": [],
   "source": [
    "# for i in names[19:30]\n",
    "#     display(Plots.bar(collect(keys(countmap(df[:,i]))), collect(values(countmap(df[:,i]))),\n",
    "#     orientation=:vertical, label = i))\n",
    "# end"
   ]
  },
  {
   "cell_type": "code",
   "execution_count": null,
   "metadata": {},
   "outputs": [],
   "source": [
    "histogram(df[:,7], bar_width = .8, label = \"religion\");"
   ]
  },
  {
   "cell_type": "code",
   "execution_count": null,
   "metadata": {},
   "outputs": [],
   "source": [
    "describe(df);\n",
    "cmap_religion = countmap(df[:,7]);"
   ]
  },
  {
   "cell_type": "code",
   "execution_count": null,
   "metadata": {},
   "outputs": [],
   "source": [
    "describe(df);\n",
    "cmap_religion = countmap(df[:,7]);"
   ]
  }
 ],
 "metadata": {
  "kernelspec": {
   "display_name": "Julia 1.8.2",
   "language": "julia",
   "name": "julia-1.8"
  },
  "language_info": {
   "file_extension": ".jl",
   "mimetype": "application/julia",
   "name": "julia",
   "version": "1.8.2"
  },
  "orig_nbformat": 4,
  "vscode": {
   "interpreter": {
    "hash": "47e86d731e077963188d400b641a1f5cee6401b89b8a1175acb1a082248e2517"
   }
  }
 },
 "nbformat": 4,
 "nbformat_minor": 2
}
